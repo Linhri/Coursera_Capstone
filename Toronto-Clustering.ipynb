{
 "cells": [
  {
   "cell_type": "markdown",
   "metadata": {},
   "source": [
    "# Segmenting and clustering neighbourhoods in Toronto"
   ]
  },
  {
   "cell_type": "markdown",
   "metadata": {},
   "source": [
    "## 1. Scrape a table from Wikipedia: _List of postal codes of Canada: M_\n"
   ]
  },
  {
   "cell_type": "markdown",
   "metadata": {},
   "source": [
    "First, we import some libraries."
   ]
  },
  {
   "cell_type": "code",
   "execution_count": 1,
   "metadata": {},
   "outputs": [],
   "source": [
    "import requests #to get a raw html page\n",
    "from bs4 import BeautifulSoup #a scraping package\n",
    "import pandas as pd #to work with dataframes"
   ]
  },
  {
   "cell_type": "markdown",
   "metadata": {},
   "source": [
    "Get the html page."
   ]
  },
  {
   "cell_type": "code",
   "execution_count": 2,
   "metadata": {},
   "outputs": [],
   "source": [
    "raw_page=requests.get('https://en.wikipedia.org/wiki/List_of_postal_codes_of_Canada:_M')\n",
    "soup=BeautifulSoup(raw_page.text,'lxml')"
   ]
  },
  {
   "cell_type": "markdown",
   "metadata": {},
   "source": [
    "Get the table from it."
   ]
  },
  {
   "cell_type": "code",
   "execution_count": 3,
   "metadata": {},
   "outputs": [],
   "source": [
    "table=soup.find_all('table')[0]"
   ]
  },
  {
   "cell_type": "markdown",
   "metadata": {},
   "source": [
    "Preprocess the table before merge with geospatial data."
   ]
  },
  {
   "cell_type": "code",
   "execution_count": 4,
   "metadata": {},
   "outputs": [
    {
     "data": {
      "text/html": [
       "<div>\n",
       "<style scoped>\n",
       "    .dataframe tbody tr th:only-of-type {\n",
       "        vertical-align: middle;\n",
       "    }\n",
       "\n",
       "    .dataframe tbody tr th {\n",
       "        vertical-align: top;\n",
       "    }\n",
       "\n",
       "    .dataframe thead th {\n",
       "        text-align: right;\n",
       "    }\n",
       "</style>\n",
       "<table border=\"1\" class=\"dataframe\">\n",
       "  <thead>\n",
       "    <tr style=\"text-align: right;\">\n",
       "      <th></th>\n",
       "      <th>Postcode</th>\n",
       "      <th>Borough</th>\n",
       "      <th>Neighbourhood</th>\n",
       "    </tr>\n",
       "  </thead>\n",
       "  <tbody>\n",
       "    <tr>\n",
       "      <th>0</th>\n",
       "      <td>M1B</td>\n",
       "      <td>Scarborough</td>\n",
       "      <td>Malvern, Rouge</td>\n",
       "    </tr>\n",
       "    <tr>\n",
       "      <th>1</th>\n",
       "      <td>M1C</td>\n",
       "      <td>Scarborough</td>\n",
       "      <td>Highland Creek, Rouge Hill, Port Union</td>\n",
       "    </tr>\n",
       "    <tr>\n",
       "      <th>2</th>\n",
       "      <td>M1E</td>\n",
       "      <td>Scarborough</td>\n",
       "      <td>Morningside, Guildwood, West Hill</td>\n",
       "    </tr>\n",
       "    <tr>\n",
       "      <th>3</th>\n",
       "      <td>M1G</td>\n",
       "      <td>Scarborough</td>\n",
       "      <td>Woburn</td>\n",
       "    </tr>\n",
       "    <tr>\n",
       "      <th>4</th>\n",
       "      <td>M1H</td>\n",
       "      <td>Scarborough</td>\n",
       "      <td>Cedarbrae</td>\n",
       "    </tr>\n",
       "  </tbody>\n",
       "</table>\n",
       "</div>"
      ],
      "text/plain": [
       "  Postcode      Borough                           Neighbourhood\n",
       "0      M1B  Scarborough                          Malvern, Rouge\n",
       "1      M1C  Scarborough  Highland Creek, Rouge Hill, Port Union\n",
       "2      M1E  Scarborough       Morningside, Guildwood, West Hill\n",
       "3      M1G  Scarborough                                  Woburn\n",
       "4      M1H  Scarborough                               Cedarbrae"
      ]
     },
     "execution_count": 4,
     "metadata": {},
     "output_type": "execute_result"
    }
   ],
   "source": [
    "df=pd.read_html(str(table), header=0)[0] #read table by Pandas\n",
    "df=df[df.Borough !='Not assigned'] #drop rows with 'Not assigned' in Borough\n",
    "df = df.reset_index(drop=True) #reset index 0, 1, 2, ...\n",
    "#Combine neighbourhoods with same postcode and borough\n",
    "df=df.groupby(['Postcode','Borough'], as_index=False).agg(lambda x: ', '.join(set(x.dropna()))) \n",
    "#'Not assigned' neighborhoods are changed to their boroughs\n",
    "df.loc[df.Neighbourhood=='Not assigned', 'Neighbourhood']=df.Borough\n",
    "#Show first rows of table after preprocessing\n",
    "df.head()"
   ]
  },
  {
   "cell_type": "markdown",
   "metadata": {},
   "source": [
    "The table size after preprocessing is "
   ]
  },
  {
   "cell_type": "code",
   "execution_count": 5,
   "metadata": {},
   "outputs": [
    {
     "data": {
      "text/plain": [
       "(103, 3)"
      ]
     },
     "execution_count": 5,
     "metadata": {},
     "output_type": "execute_result"
    }
   ],
   "source": [
    "df.shape"
   ]
  },
  {
   "cell_type": "markdown",
   "metadata": {},
   "source": [
    "# 2. Add coordinate to Neighbourhoods"
   ]
  },
  {
   "cell_type": "markdown",
   "metadata": {},
   "source": [
    "Load geospatial data from a csv file."
   ]
  },
  {
   "cell_type": "code",
   "execution_count": 6,
   "metadata": {},
   "outputs": [],
   "source": [
    "df_coordinate=pd.read_csv('http://cocl.us/Geospatial_data')"
   ]
  },
  {
   "cell_type": "markdown",
   "metadata": {},
   "source": [
    "The column _Postal Code_ in the csv file is the same as the column _Postcode_ in the dataframe. So we change the name _Postal Code_ into _Postcode_ so that we can merge later. "
   ]
  },
  {
   "cell_type": "code",
   "execution_count": 7,
   "metadata": {},
   "outputs": [],
   "source": [
    "df_coordinate.rename(columns={'Postal Code':'Postcode'},inplace=True)"
   ]
  },
  {
   "cell_type": "markdown",
   "metadata": {},
   "source": [
    "Merge 2 dataframes."
   ]
  },
  {
   "cell_type": "code",
   "execution_count": 8,
   "metadata": {},
   "outputs": [
    {
     "data": {
      "text/html": [
       "<div>\n",
       "<style scoped>\n",
       "    .dataframe tbody tr th:only-of-type {\n",
       "        vertical-align: middle;\n",
       "    }\n",
       "\n",
       "    .dataframe tbody tr th {\n",
       "        vertical-align: top;\n",
       "    }\n",
       "\n",
       "    .dataframe thead th {\n",
       "        text-align: right;\n",
       "    }\n",
       "</style>\n",
       "<table border=\"1\" class=\"dataframe\">\n",
       "  <thead>\n",
       "    <tr style=\"text-align: right;\">\n",
       "      <th></th>\n",
       "      <th>Postcode</th>\n",
       "      <th>Borough</th>\n",
       "      <th>Neighbourhood</th>\n",
       "      <th>Latitude</th>\n",
       "      <th>Longitude</th>\n",
       "    </tr>\n",
       "  </thead>\n",
       "  <tbody>\n",
       "    <tr>\n",
       "      <th>0</th>\n",
       "      <td>M1B</td>\n",
       "      <td>Scarborough</td>\n",
       "      <td>Malvern, Rouge</td>\n",
       "      <td>43.806686</td>\n",
       "      <td>-79.194353</td>\n",
       "    </tr>\n",
       "    <tr>\n",
       "      <th>1</th>\n",
       "      <td>M1C</td>\n",
       "      <td>Scarborough</td>\n",
       "      <td>Highland Creek, Rouge Hill, Port Union</td>\n",
       "      <td>43.784535</td>\n",
       "      <td>-79.160497</td>\n",
       "    </tr>\n",
       "    <tr>\n",
       "      <th>2</th>\n",
       "      <td>M1E</td>\n",
       "      <td>Scarborough</td>\n",
       "      <td>Morningside, Guildwood, West Hill</td>\n",
       "      <td>43.763573</td>\n",
       "      <td>-79.188711</td>\n",
       "    </tr>\n",
       "    <tr>\n",
       "      <th>3</th>\n",
       "      <td>M1G</td>\n",
       "      <td>Scarborough</td>\n",
       "      <td>Woburn</td>\n",
       "      <td>43.770992</td>\n",
       "      <td>-79.216917</td>\n",
       "    </tr>\n",
       "    <tr>\n",
       "      <th>4</th>\n",
       "      <td>M1H</td>\n",
       "      <td>Scarborough</td>\n",
       "      <td>Cedarbrae</td>\n",
       "      <td>43.773136</td>\n",
       "      <td>-79.239476</td>\n",
       "    </tr>\n",
       "  </tbody>\n",
       "</table>\n",
       "</div>"
      ],
      "text/plain": [
       "  Postcode      Borough                           Neighbourhood   Latitude  \\\n",
       "0      M1B  Scarborough                          Malvern, Rouge  43.806686   \n",
       "1      M1C  Scarborough  Highland Creek, Rouge Hill, Port Union  43.784535   \n",
       "2      M1E  Scarborough       Morningside, Guildwood, West Hill  43.763573   \n",
       "3      M1G  Scarborough                                  Woburn  43.770992   \n",
       "4      M1H  Scarborough                               Cedarbrae  43.773136   \n",
       "\n",
       "   Longitude  \n",
       "0 -79.194353  \n",
       "1 -79.160497  \n",
       "2 -79.188711  \n",
       "3 -79.216917  \n",
       "4 -79.239476  "
      ]
     },
     "execution_count": 8,
     "metadata": {},
     "output_type": "execute_result"
    }
   ],
   "source": [
    "df_merge=pd.merge(df,df_coordinate)\n",
    "df_merge.head()"
   ]
  },
  {
   "cell_type": "markdown",
   "metadata": {},
   "source": [
    "# 3. Clustering Toronto by k-Mean "
   ]
  },
  {
   "cell_type": "markdown",
   "metadata": {},
   "source": [
    "Let's import some libraries."
   ]
  },
  {
   "cell_type": "code",
   "execution_count": 9,
   "metadata": {},
   "outputs": [],
   "source": [
    "import numpy as np # library to handle data in a vectorized manner\n",
    "import json # library to handle JSON files\n",
    "\n",
    "from geopy.geocoders import Nominatim # convert an address into latitude and longitude values\n",
    "\n",
    "# Matplotlib and associated plotting modules\n",
    "import matplotlib.cm as cm\n",
    "import matplotlib.colors as colors\n",
    "\n",
    "# import k-means from clustering stage\n",
    "from sklearn.cluster import KMeans\n",
    "\n",
    "import folium # map rendering library"
   ]
  },
  {
   "cell_type": "markdown",
   "metadata": {},
   "source": [
    "From now on, we only work with bouroughs containing 'Toronto'."
   ]
  },
  {
   "cell_type": "code",
   "execution_count": 10,
   "metadata": {},
   "outputs": [
    {
     "data": {
      "text/html": [
       "<div>\n",
       "<style scoped>\n",
       "    .dataframe tbody tr th:only-of-type {\n",
       "        vertical-align: middle;\n",
       "    }\n",
       "\n",
       "    .dataframe tbody tr th {\n",
       "        vertical-align: top;\n",
       "    }\n",
       "\n",
       "    .dataframe thead th {\n",
       "        text-align: right;\n",
       "    }\n",
       "</style>\n",
       "<table border=\"1\" class=\"dataframe\">\n",
       "  <thead>\n",
       "    <tr style=\"text-align: right;\">\n",
       "      <th></th>\n",
       "      <th>Postcode</th>\n",
       "      <th>Borough</th>\n",
       "      <th>Neighbourhood</th>\n",
       "      <th>Latitude</th>\n",
       "      <th>Longitude</th>\n",
       "    </tr>\n",
       "  </thead>\n",
       "  <tbody>\n",
       "    <tr>\n",
       "      <th>0</th>\n",
       "      <td>M4E</td>\n",
       "      <td>East Toronto</td>\n",
       "      <td>The Beaches</td>\n",
       "      <td>43.676357</td>\n",
       "      <td>-79.293031</td>\n",
       "    </tr>\n",
       "    <tr>\n",
       "      <th>1</th>\n",
       "      <td>M4K</td>\n",
       "      <td>East Toronto</td>\n",
       "      <td>Riverdale, The Danforth West</td>\n",
       "      <td>43.679557</td>\n",
       "      <td>-79.352188</td>\n",
       "    </tr>\n",
       "    <tr>\n",
       "      <th>2</th>\n",
       "      <td>M4L</td>\n",
       "      <td>East Toronto</td>\n",
       "      <td>The Beaches West, India Bazaar</td>\n",
       "      <td>43.668999</td>\n",
       "      <td>-79.315572</td>\n",
       "    </tr>\n",
       "    <tr>\n",
       "      <th>3</th>\n",
       "      <td>M4M</td>\n",
       "      <td>East Toronto</td>\n",
       "      <td>Studio District</td>\n",
       "      <td>43.659526</td>\n",
       "      <td>-79.340923</td>\n",
       "    </tr>\n",
       "    <tr>\n",
       "      <th>4</th>\n",
       "      <td>M4N</td>\n",
       "      <td>Central Toronto</td>\n",
       "      <td>Lawrence Park</td>\n",
       "      <td>43.728020</td>\n",
       "      <td>-79.388790</td>\n",
       "    </tr>\n",
       "  </tbody>\n",
       "</table>\n",
       "</div>"
      ],
      "text/plain": [
       "  Postcode          Borough                   Neighbourhood   Latitude  \\\n",
       "0      M4E     East Toronto                     The Beaches  43.676357   \n",
       "1      M4K     East Toronto    Riverdale, The Danforth West  43.679557   \n",
       "2      M4L     East Toronto  The Beaches West, India Bazaar  43.668999   \n",
       "3      M4M     East Toronto                 Studio District  43.659526   \n",
       "4      M4N  Central Toronto                   Lawrence Park  43.728020   \n",
       "\n",
       "   Longitude  \n",
       "0 -79.293031  \n",
       "1 -79.352188  \n",
       "2 -79.315572  \n",
       "3 -79.340923  \n",
       "4 -79.388790  "
      ]
     },
     "execution_count": 10,
     "metadata": {},
     "output_type": "execute_result"
    }
   ],
   "source": [
    "df_toronto = df_merge[df_merge['Borough'].str.contains('Toronto')].reset_index(drop=True)\n",
    "df_toronto.head()"
   ]
  },
  {
   "cell_type": "markdown",
   "metadata": {},
   "source": [
    "We get coordinates of Toronto as follows."
   ]
  },
  {
   "cell_type": "code",
   "execution_count": 11,
   "metadata": {},
   "outputs": [
    {
     "name": "stdout",
     "output_type": "stream",
     "text": [
      "The geograpical coordinate of Toronto are 43.653963, -79.387207.\n"
     ]
    }
   ],
   "source": [
    "geolocator = Nominatim(user_agent=\"explore_toronto\")\n",
    "location = geolocator.geocode('Toronto')\n",
    "latitude = location.latitude\n",
    "longitude = location.longitude\n",
    "print('The geograpical coordinate of Toronto are {}, {}.'.format(latitude, longitude))"
   ]
  },
  {
   "cell_type": "markdown",
   "metadata": {},
   "source": [
    "#### Create a map of Toronto neighbourhoods."
   ]
  },
  {
   "cell_type": "code",
   "execution_count": 12,
   "metadata": {},
   "outputs": [
    {
     "data": {
      "text/html": [
       "<div style=\"width:100%;\"><div style=\"position:relative;width:100%;height:0;padding-bottom:60%;\"><iframe src=\"data:text/html;charset=utf-8;base64,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\" style=\"position:absolute;width:100%;height:100%;left:0;top:0;border:none !important;\" allowfullscreen webkitallowfullscreen mozallowfullscreen></iframe></div></div>"
      ],
      "text/plain": [
       "<folium.folium.Map at 0x7f986d47deb8>"
      ]
     },
     "execution_count": 12,
     "metadata": {},
     "output_type": "execute_result"
    }
   ],
   "source": [
    "# create map of Toronto using latitude and longitude values\n",
    "map_toronto = folium.Map(location=[latitude, longitude], zoom_start=11)\n",
    "\n",
    "# add markers to map\n",
    "for lat, lng, label in zip(df_toronto['Latitude'], df_toronto['Longitude'], df_toronto['Neighbourhood']):\n",
    "    label = folium.Popup(label, parse_html=True)\n",
    "    folium.CircleMarker(\n",
    "        [lat, lng],\n",
    "        radius=5,\n",
    "        popup=label,\n",
    "        color='blue',\n",
    "        fill=True,\n",
    "        fill_color='#3186cc',\n",
    "        fill_opacity=0.7,\n",
    "        parse_html=False).add_to(map_toronto)  \n",
    "    \n",
    "map_toronto"
   ]
  },
  {
   "cell_type": "markdown",
   "metadata": {},
   "source": [
    "### Now, we use Foursquare to explore Toronto venues."
   ]
  },
  {
   "cell_type": "markdown",
   "metadata": {},
   "source": [
    "My Foursquare account is as follows. "
   ]
  },
  {
   "cell_type": "code",
   "execution_count": 13,
   "metadata": {},
   "outputs": [],
   "source": [
    "CLIENT_ID = 'Z4VG3VCWSTJUXART5WHOTKDW41LAG4EKZGF2KCMTJH1JCYDN' # my Foursquare ID\n",
    "CLIENT_SECRET = 'SH54J1GTZF3JN4V3XL4OXZCNZF12DWINXW23JO1FID0MZE4N' # my Foursquare Secret\n",
    "VERSION = '20190202' # Foursquare API version"
   ]
  },
  {
   "cell_type": "markdown",
   "metadata": {},
   "source": [
    "Set limit and radius to search."
   ]
  },
  {
   "cell_type": "code",
   "execution_count": 14,
   "metadata": {},
   "outputs": [],
   "source": [
    "LIMIT = 100 # limit of number of venues returned by Foursquare API\n",
    "radius = 500 # define radius"
   ]
  },
  {
   "cell_type": "markdown",
   "metadata": {},
   "source": [
    "Let's define a function to get nearby venues."
   ]
  },
  {
   "cell_type": "code",
   "execution_count": 15,
   "metadata": {},
   "outputs": [],
   "source": [
    "   def getNearbyVenues(names, latitudes, longitudes, radius=500):\n",
    "    \n",
    "    venues_list=[]\n",
    "    for name, lat, lng in zip(names, latitudes, longitudes):\n",
    "        print(name)\n",
    "            \n",
    "        # create the API request URL\n",
    "        url = 'https://api.foursquare.com/v2/venues/explore?&client_id={}&client_secret={}&v={}&ll={},{}&radius={}&limit={}'.format(\n",
    "            CLIENT_ID, \n",
    "            CLIENT_SECRET, \n",
    "            VERSION, \n",
    "            lat, \n",
    "            lng, \n",
    "            radius, \n",
    "            LIMIT)\n",
    "            \n",
    "        # make the GET request\n",
    "        results = requests.get(url).json()[\"response\"]['groups'][0]['items']\n",
    "        \n",
    "        # return only relevant information for each nearby venue\n",
    "        venues_list.append([(\n",
    "            name, \n",
    "            lat, \n",
    "            lng, \n",
    "            v['venue']['name'], \n",
    "            v['venue']['location']['lat'], \n",
    "            v['venue']['location']['lng'],  \n",
    "            v['venue']['categories'][0]['name']) for v in results])\n",
    "\n",
    "    nearby_venues = pd.DataFrame([item for venue_list in venues_list for item in venue_list])\n",
    "    nearby_venues.columns = ['Neighbourhood', \n",
    "                  'Neighbourhood Latitude', \n",
    "                  'Neighbourhood Longitude', \n",
    "                  'Venue', \n",
    "                  'Venue Latitude', \n",
    "                  'Venue Longitude', \n",
    "                  'Venue Category']\n",
    "    \n",
    "    return(nearby_venues)"
   ]
  },
  {
   "cell_type": "markdown",
   "metadata": {},
   "source": [
    "List of Toronto venues."
   ]
  },
  {
   "cell_type": "code",
   "execution_count": 16,
   "metadata": {},
   "outputs": [
    {
     "name": "stdout",
     "output_type": "stream",
     "text": [
      "The Beaches\n",
      "Riverdale, The Danforth West\n",
      "The Beaches West, India Bazaar\n",
      "Studio District\n",
      "Lawrence Park\n",
      "Davisville North\n",
      "North Toronto West\n",
      "Davisville\n",
      "Summerhill East, Moore Park\n",
      "Summerhill West, Forest Hill SE, Deer Park, South Hill, Rathnelly\n",
      "Rosedale\n",
      "St. James Town, Cabbagetown\n",
      "Church and Wellesley\n",
      "Harbourfront, Regent Park\n",
      "Ryerson, Garden District\n",
      "St. James Town\n",
      "Berczy Park\n",
      "Central Bay Street\n",
      "Adelaide, Richmond, King\n",
      "Harbourfront East, Toronto Islands, Union Station\n",
      "Design Exchange, Toronto Dominion Centre\n",
      "Commerce Court, Victoria Hotel\n",
      "Roselawn\n",
      "Forest Hill West, Forest Hill North\n",
      "Yorkville, The Annex, North Midtown\n",
      "University of Toronto, Harbord\n",
      "Kensington Market, Grange Park, Chinatown\n",
      "South Niagara, Bathurst Quay, King and Spadina, Railway Lands, CN Tower, Harbourfront West, Island airport\n",
      "Stn A PO Boxes 25 The Esplanade\n",
      "Underground city, First Canadian Place\n",
      "Christie\n",
      "Dovercourt Village, Dufferin\n",
      "Little Portugal, Trinity\n",
      "Exhibition Place, Parkdale Village, Brockton\n",
      "High Park, The Junction South\n",
      "Parkdale, Roncesvalles\n",
      "Swansea, Runnymede\n",
      "Business Reply Mail Processing Centre 969 Eastern\n"
     ]
    }
   ],
   "source": [
    "toronto_venues = getNearbyVenues(names=df_toronto['Neighbourhood'],\n",
    "                                   latitudes=df_toronto['Latitude'],\n",
    "                                   longitudes=df_toronto['Longitude'])"
   ]
  },
  {
   "cell_type": "markdown",
   "metadata": {},
   "source": [
    "Use one-hot encoding to transform venues to numeric variables."
   ]
  },
  {
   "cell_type": "code",
   "execution_count": 17,
   "metadata": {},
   "outputs": [],
   "source": [
    "toronto_onehot = pd.get_dummies(toronto_venues[['Venue Category']], prefix=\"\", prefix_sep=\"\")"
   ]
  },
  {
   "cell_type": "code",
   "execution_count": 18,
   "metadata": {},
   "outputs": [
    {
     "data": {
      "text/html": [
       "<div>\n",
       "<style scoped>\n",
       "    .dataframe tbody tr th:only-of-type {\n",
       "        vertical-align: middle;\n",
       "    }\n",
       "\n",
       "    .dataframe tbody tr th {\n",
       "        vertical-align: top;\n",
       "    }\n",
       "\n",
       "    .dataframe thead th {\n",
       "        text-align: right;\n",
       "    }\n",
       "</style>\n",
       "<table border=\"1\" class=\"dataframe\">\n",
       "  <thead>\n",
       "    <tr style=\"text-align: right;\">\n",
       "      <th></th>\n",
       "      <th>Neighbourhood</th>\n",
       "      <th>Adult Boutique</th>\n",
       "      <th>Afghan Restaurant</th>\n",
       "      <th>Airport</th>\n",
       "      <th>Airport Food Court</th>\n",
       "      <th>Airport Gate</th>\n",
       "      <th>Airport Lounge</th>\n",
       "      <th>Airport Service</th>\n",
       "      <th>Airport Terminal</th>\n",
       "      <th>American Restaurant</th>\n",
       "      <th>...</th>\n",
       "      <th>Toy / Game Store</th>\n",
       "      <th>Trail</th>\n",
       "      <th>Train Station</th>\n",
       "      <th>Vegetarian / Vegan Restaurant</th>\n",
       "      <th>Video Game Store</th>\n",
       "      <th>Vietnamese Restaurant</th>\n",
       "      <th>Wine Bar</th>\n",
       "      <th>Wings Joint</th>\n",
       "      <th>Women's Store</th>\n",
       "      <th>Yoga Studio</th>\n",
       "    </tr>\n",
       "  </thead>\n",
       "  <tbody>\n",
       "    <tr>\n",
       "      <th>0</th>\n",
       "      <td>The Beaches</td>\n",
       "      <td>0</td>\n",
       "      <td>0</td>\n",
       "      <td>0</td>\n",
       "      <td>0</td>\n",
       "      <td>0</td>\n",
       "      <td>0</td>\n",
       "      <td>0</td>\n",
       "      <td>0</td>\n",
       "      <td>0</td>\n",
       "      <td>...</td>\n",
       "      <td>0</td>\n",
       "      <td>0</td>\n",
       "      <td>0</td>\n",
       "      <td>0</td>\n",
       "      <td>0</td>\n",
       "      <td>0</td>\n",
       "      <td>0</td>\n",
       "      <td>0</td>\n",
       "      <td>0</td>\n",
       "      <td>0</td>\n",
       "    </tr>\n",
       "    <tr>\n",
       "      <th>1</th>\n",
       "      <td>The Beaches</td>\n",
       "      <td>0</td>\n",
       "      <td>0</td>\n",
       "      <td>0</td>\n",
       "      <td>0</td>\n",
       "      <td>0</td>\n",
       "      <td>0</td>\n",
       "      <td>0</td>\n",
       "      <td>0</td>\n",
       "      <td>0</td>\n",
       "      <td>...</td>\n",
       "      <td>0</td>\n",
       "      <td>0</td>\n",
       "      <td>0</td>\n",
       "      <td>0</td>\n",
       "      <td>0</td>\n",
       "      <td>0</td>\n",
       "      <td>0</td>\n",
       "      <td>0</td>\n",
       "      <td>0</td>\n",
       "      <td>0</td>\n",
       "    </tr>\n",
       "    <tr>\n",
       "      <th>2</th>\n",
       "      <td>The Beaches</td>\n",
       "      <td>0</td>\n",
       "      <td>0</td>\n",
       "      <td>0</td>\n",
       "      <td>0</td>\n",
       "      <td>0</td>\n",
       "      <td>0</td>\n",
       "      <td>0</td>\n",
       "      <td>0</td>\n",
       "      <td>0</td>\n",
       "      <td>...</td>\n",
       "      <td>0</td>\n",
       "      <td>1</td>\n",
       "      <td>0</td>\n",
       "      <td>0</td>\n",
       "      <td>0</td>\n",
       "      <td>0</td>\n",
       "      <td>0</td>\n",
       "      <td>0</td>\n",
       "      <td>0</td>\n",
       "      <td>0</td>\n",
       "    </tr>\n",
       "    <tr>\n",
       "      <th>3</th>\n",
       "      <td>The Beaches</td>\n",
       "      <td>0</td>\n",
       "      <td>0</td>\n",
       "      <td>0</td>\n",
       "      <td>0</td>\n",
       "      <td>0</td>\n",
       "      <td>0</td>\n",
       "      <td>0</td>\n",
       "      <td>0</td>\n",
       "      <td>0</td>\n",
       "      <td>...</td>\n",
       "      <td>0</td>\n",
       "      <td>0</td>\n",
       "      <td>0</td>\n",
       "      <td>0</td>\n",
       "      <td>0</td>\n",
       "      <td>0</td>\n",
       "      <td>0</td>\n",
       "      <td>0</td>\n",
       "      <td>0</td>\n",
       "      <td>0</td>\n",
       "    </tr>\n",
       "    <tr>\n",
       "      <th>4</th>\n",
       "      <td>Riverdale, The Danforth West</td>\n",
       "      <td>0</td>\n",
       "      <td>0</td>\n",
       "      <td>0</td>\n",
       "      <td>0</td>\n",
       "      <td>0</td>\n",
       "      <td>0</td>\n",
       "      <td>0</td>\n",
       "      <td>0</td>\n",
       "      <td>0</td>\n",
       "      <td>...</td>\n",
       "      <td>0</td>\n",
       "      <td>0</td>\n",
       "      <td>0</td>\n",
       "      <td>0</td>\n",
       "      <td>0</td>\n",
       "      <td>0</td>\n",
       "      <td>0</td>\n",
       "      <td>0</td>\n",
       "      <td>0</td>\n",
       "      <td>0</td>\n",
       "    </tr>\n",
       "  </tbody>\n",
       "</table>\n",
       "<p>5 rows × 238 columns</p>\n",
       "</div>"
      ],
      "text/plain": [
       "                  Neighbourhood  Adult Boutique  Afghan Restaurant  Airport  \\\n",
       "0                   The Beaches               0                  0        0   \n",
       "1                   The Beaches               0                  0        0   \n",
       "2                   The Beaches               0                  0        0   \n",
       "3                   The Beaches               0                  0        0   \n",
       "4  Riverdale, The Danforth West               0                  0        0   \n",
       "\n",
       "   Airport Food Court  Airport Gate  Airport Lounge  Airport Service  \\\n",
       "0                   0             0               0                0   \n",
       "1                   0             0               0                0   \n",
       "2                   0             0               0                0   \n",
       "3                   0             0               0                0   \n",
       "4                   0             0               0                0   \n",
       "\n",
       "   Airport Terminal  American Restaurant     ...       Toy / Game Store  \\\n",
       "0                 0                    0     ...                      0   \n",
       "1                 0                    0     ...                      0   \n",
       "2                 0                    0     ...                      0   \n",
       "3                 0                    0     ...                      0   \n",
       "4                 0                    0     ...                      0   \n",
       "\n",
       "   Trail  Train Station  Vegetarian / Vegan Restaurant  Video Game Store  \\\n",
       "0      0              0                              0                 0   \n",
       "1      0              0                              0                 0   \n",
       "2      1              0                              0                 0   \n",
       "3      0              0                              0                 0   \n",
       "4      0              0                              0                 0   \n",
       "\n",
       "   Vietnamese Restaurant  Wine Bar  Wings Joint  Women's Store  Yoga Studio  \n",
       "0                      0         0            0              0            0  \n",
       "1                      0         0            0              0            0  \n",
       "2                      0         0            0              0            0  \n",
       "3                      0         0            0              0            0  \n",
       "4                      0         0            0              0            0  \n",
       "\n",
       "[5 rows x 238 columns]"
      ]
     },
     "execution_count": 18,
     "metadata": {},
     "output_type": "execute_result"
    }
   ],
   "source": [
    "# add neighborhood column back to dataframe\n",
    "toronto_onehot['Neighbourhood'] = toronto_venues['Neighbourhood'] \n",
    "# move neighborhood column to the first column\n",
    "fixed_columns = [toronto_onehot.columns[-1]] + list(toronto_onehot.columns[:-1])\n",
    "toronto_onehot = toronto_onehot[fixed_columns]\n",
    "\n",
    "toronto_onehot.head()"
   ]
  },
  {
   "cell_type": "markdown",
   "metadata": {},
   "source": [
    "Groupby neighbourhoods in Toronto."
   ]
  },
  {
   "cell_type": "code",
   "execution_count": 19,
   "metadata": {},
   "outputs": [
    {
     "data": {
      "text/html": [
       "<div>\n",
       "<style scoped>\n",
       "    .dataframe tbody tr th:only-of-type {\n",
       "        vertical-align: middle;\n",
       "    }\n",
       "\n",
       "    .dataframe tbody tr th {\n",
       "        vertical-align: top;\n",
       "    }\n",
       "\n",
       "    .dataframe thead th {\n",
       "        text-align: right;\n",
       "    }\n",
       "</style>\n",
       "<table border=\"1\" class=\"dataframe\">\n",
       "  <thead>\n",
       "    <tr style=\"text-align: right;\">\n",
       "      <th></th>\n",
       "      <th>Neighbourhood</th>\n",
       "      <th>Adult Boutique</th>\n",
       "      <th>Afghan Restaurant</th>\n",
       "      <th>Airport</th>\n",
       "      <th>Airport Food Court</th>\n",
       "      <th>Airport Gate</th>\n",
       "      <th>Airport Lounge</th>\n",
       "      <th>Airport Service</th>\n",
       "      <th>Airport Terminal</th>\n",
       "      <th>American Restaurant</th>\n",
       "      <th>...</th>\n",
       "      <th>Toy / Game Store</th>\n",
       "      <th>Trail</th>\n",
       "      <th>Train Station</th>\n",
       "      <th>Vegetarian / Vegan Restaurant</th>\n",
       "      <th>Video Game Store</th>\n",
       "      <th>Vietnamese Restaurant</th>\n",
       "      <th>Wine Bar</th>\n",
       "      <th>Wings Joint</th>\n",
       "      <th>Women's Store</th>\n",
       "      <th>Yoga Studio</th>\n",
       "    </tr>\n",
       "  </thead>\n",
       "  <tbody>\n",
       "    <tr>\n",
       "      <th>0</th>\n",
       "      <td>Adelaide, Richmond, King</td>\n",
       "      <td>0.0</td>\n",
       "      <td>0.0</td>\n",
       "      <td>0.0</td>\n",
       "      <td>0.0</td>\n",
       "      <td>0.0</td>\n",
       "      <td>0.0</td>\n",
       "      <td>0.0</td>\n",
       "      <td>0.0</td>\n",
       "      <td>0.040000</td>\n",
       "      <td>...</td>\n",
       "      <td>0.0</td>\n",
       "      <td>0.0</td>\n",
       "      <td>0.0</td>\n",
       "      <td>0.010000</td>\n",
       "      <td>0.0</td>\n",
       "      <td>0.0</td>\n",
       "      <td>0.010000</td>\n",
       "      <td>0.0</td>\n",
       "      <td>0.01</td>\n",
       "      <td>0.000000</td>\n",
       "    </tr>\n",
       "    <tr>\n",
       "      <th>1</th>\n",
       "      <td>Berczy Park</td>\n",
       "      <td>0.0</td>\n",
       "      <td>0.0</td>\n",
       "      <td>0.0</td>\n",
       "      <td>0.0</td>\n",
       "      <td>0.0</td>\n",
       "      <td>0.0</td>\n",
       "      <td>0.0</td>\n",
       "      <td>0.0</td>\n",
       "      <td>0.000000</td>\n",
       "      <td>...</td>\n",
       "      <td>0.0</td>\n",
       "      <td>0.0</td>\n",
       "      <td>0.0</td>\n",
       "      <td>0.000000</td>\n",
       "      <td>0.0</td>\n",
       "      <td>0.0</td>\n",
       "      <td>0.000000</td>\n",
       "      <td>0.0</td>\n",
       "      <td>0.00</td>\n",
       "      <td>0.000000</td>\n",
       "    </tr>\n",
       "    <tr>\n",
       "      <th>2</th>\n",
       "      <td>Business Reply Mail Processing Centre 969 Eastern</td>\n",
       "      <td>0.0</td>\n",
       "      <td>0.0</td>\n",
       "      <td>0.0</td>\n",
       "      <td>0.0</td>\n",
       "      <td>0.0</td>\n",
       "      <td>0.0</td>\n",
       "      <td>0.0</td>\n",
       "      <td>0.0</td>\n",
       "      <td>0.000000</td>\n",
       "      <td>...</td>\n",
       "      <td>0.0</td>\n",
       "      <td>0.0</td>\n",
       "      <td>0.0</td>\n",
       "      <td>0.000000</td>\n",
       "      <td>0.0</td>\n",
       "      <td>0.0</td>\n",
       "      <td>0.000000</td>\n",
       "      <td>0.0</td>\n",
       "      <td>0.00</td>\n",
       "      <td>0.000000</td>\n",
       "    </tr>\n",
       "    <tr>\n",
       "      <th>3</th>\n",
       "      <td>Central Bay Street</td>\n",
       "      <td>0.0</td>\n",
       "      <td>0.0</td>\n",
       "      <td>0.0</td>\n",
       "      <td>0.0</td>\n",
       "      <td>0.0</td>\n",
       "      <td>0.0</td>\n",
       "      <td>0.0</td>\n",
       "      <td>0.0</td>\n",
       "      <td>0.012346</td>\n",
       "      <td>...</td>\n",
       "      <td>0.0</td>\n",
       "      <td>0.0</td>\n",
       "      <td>0.0</td>\n",
       "      <td>0.012346</td>\n",
       "      <td>0.0</td>\n",
       "      <td>0.0</td>\n",
       "      <td>0.012346</td>\n",
       "      <td>0.0</td>\n",
       "      <td>0.00</td>\n",
       "      <td>0.012346</td>\n",
       "    </tr>\n",
       "    <tr>\n",
       "      <th>4</th>\n",
       "      <td>Christie</td>\n",
       "      <td>0.0</td>\n",
       "      <td>0.0</td>\n",
       "      <td>0.0</td>\n",
       "      <td>0.0</td>\n",
       "      <td>0.0</td>\n",
       "      <td>0.0</td>\n",
       "      <td>0.0</td>\n",
       "      <td>0.0</td>\n",
       "      <td>0.000000</td>\n",
       "      <td>...</td>\n",
       "      <td>0.0</td>\n",
       "      <td>0.0</td>\n",
       "      <td>0.0</td>\n",
       "      <td>0.000000</td>\n",
       "      <td>0.0</td>\n",
       "      <td>0.0</td>\n",
       "      <td>0.000000</td>\n",
       "      <td>0.0</td>\n",
       "      <td>0.00</td>\n",
       "      <td>0.000000</td>\n",
       "    </tr>\n",
       "  </tbody>\n",
       "</table>\n",
       "<p>5 rows × 238 columns</p>\n",
       "</div>"
      ],
      "text/plain": [
       "                                       Neighbourhood  Adult Boutique  \\\n",
       "0                           Adelaide, Richmond, King             0.0   \n",
       "1                                        Berczy Park             0.0   \n",
       "2  Business Reply Mail Processing Centre 969 Eastern             0.0   \n",
       "3                                 Central Bay Street             0.0   \n",
       "4                                           Christie             0.0   \n",
       "\n",
       "   Afghan Restaurant  Airport  Airport Food Court  Airport Gate  \\\n",
       "0                0.0      0.0                 0.0           0.0   \n",
       "1                0.0      0.0                 0.0           0.0   \n",
       "2                0.0      0.0                 0.0           0.0   \n",
       "3                0.0      0.0                 0.0           0.0   \n",
       "4                0.0      0.0                 0.0           0.0   \n",
       "\n",
       "   Airport Lounge  Airport Service  Airport Terminal  American Restaurant  \\\n",
       "0             0.0              0.0               0.0             0.040000   \n",
       "1             0.0              0.0               0.0             0.000000   \n",
       "2             0.0              0.0               0.0             0.000000   \n",
       "3             0.0              0.0               0.0             0.012346   \n",
       "4             0.0              0.0               0.0             0.000000   \n",
       "\n",
       "      ...       Toy / Game Store  Trail  Train Station  \\\n",
       "0     ...                    0.0    0.0            0.0   \n",
       "1     ...                    0.0    0.0            0.0   \n",
       "2     ...                    0.0    0.0            0.0   \n",
       "3     ...                    0.0    0.0            0.0   \n",
       "4     ...                    0.0    0.0            0.0   \n",
       "\n",
       "   Vegetarian / Vegan Restaurant  Video Game Store  Vietnamese Restaurant  \\\n",
       "0                       0.010000               0.0                    0.0   \n",
       "1                       0.000000               0.0                    0.0   \n",
       "2                       0.000000               0.0                    0.0   \n",
       "3                       0.012346               0.0                    0.0   \n",
       "4                       0.000000               0.0                    0.0   \n",
       "\n",
       "   Wine Bar  Wings Joint  Women's Store  Yoga Studio  \n",
       "0  0.010000          0.0           0.01     0.000000  \n",
       "1  0.000000          0.0           0.00     0.000000  \n",
       "2  0.000000          0.0           0.00     0.000000  \n",
       "3  0.012346          0.0           0.00     0.012346  \n",
       "4  0.000000          0.0           0.00     0.000000  \n",
       "\n",
       "[5 rows x 238 columns]"
      ]
     },
     "execution_count": 19,
     "metadata": {},
     "output_type": "execute_result"
    }
   ],
   "source": [
    "toronto_grouped = toronto_onehot.groupby('Neighbourhood').mean().reset_index()\n",
    "toronto_grouped.head()"
   ]
  },
  {
   "cell_type": "markdown",
   "metadata": {},
   "source": [
    "Before clustering, let's drop the column 'Neighbourhood'."
   ]
  },
  {
   "cell_type": "code",
   "execution_count": 20,
   "metadata": {},
   "outputs": [],
   "source": [
    "toronto_grouped_clustering = toronto_grouped.drop('Neighbourhood', 1)"
   ]
  },
  {
   "cell_type": "markdown",
   "metadata": {},
   "source": [
    "Next, we choose k in k-Mean method."
   ]
  },
  {
   "cell_type": "code",
   "execution_count": 21,
   "metadata": {},
   "outputs": [],
   "source": [
    "from scipy.spatial.distance import cdist\n",
    "\n",
    "distortions = []\n",
    "K = range(1,20)\n",
    "for k in K:\n",
    "    kmeanModel = KMeans(n_clusters=k).fit(toronto_grouped_clustering)\n",
    "    kmeanModel.fit(toronto_grouped_clustering)\n",
    "    distortions.append(sum(np.min(cdist(toronto_grouped_clustering, kmeanModel.cluster_centers_, 'euclidean'), axis=1)) / toronto_grouped_clustering.shape[0])"
   ]
  },
  {
   "cell_type": "code",
   "execution_count": 23,
   "metadata": {},
   "outputs": [
    {
     "data": {
      "text/plain": [
       "Text(0.5, 1.0, 'The Elbow Method showing the optimal k')"
      ]
     },
     "execution_count": 23,
     "metadata": {},
     "output_type": "execute_result"
    },
    {
     "data": {
      "image/png": "[encoded data removed]",
      "text/plain": [
       "<Figure size 432x288 with 1 Axes>"
      ]
     },
     "metadata": {
      "needs_background": "light"
     },
     "output_type": "display_data"
    }
   ],
   "source": [
    "import matplotlib.pyplot as plt\n",
    "plt.plot(K, distortions, 'bx-')\n",
    "plt.xlabel('k')\n",
    "plt.ylabel('Distortion')\n",
    "plt.title('The Elbow Method showing the optimal k')"
   ]
  },
  {
   "cell_type": "markdown",
   "metadata": {},
   "source": [
    "From the elbow method, we choose k=7."
   ]
  },
  {
   "cell_type": "code",
   "execution_count": 24,
   "metadata": {},
   "outputs": [
    {
     "data": {
      "text/plain": [
       "array([0, 0, 0, 0, 0, 0, 0, 0, 0, 0, 0, 0, 2, 0, 0, 0, 0, 4, 0, 0, 0, 0,\n",
       "       3, 1, 0, 0, 0, 0, 0, 0, 5, 0, 0, 6, 0, 0, 0, 0], dtype=int32)"
      ]
     },
     "execution_count": 24,
     "metadata": {},
     "output_type": "execute_result"
    }
   ],
   "source": [
    "kclusters = 7\n",
    "\n",
    "# run k-means clustering\n",
    "kmeans = KMeans(n_clusters=kclusters, random_state=0).fit(toronto_grouped_clustering)\n",
    "\n",
    "# check cluster labels generated for each row in the dataframe\n",
    "kmeans.labels_ "
   ]
  },
  {
   "cell_type": "markdown",
   "metadata": {},
   "source": [
    "Add cluster labels to Toronto neighbourhoods."
   ]
  },
  {
   "cell_type": "code",
   "execution_count": 25,
   "metadata": {},
   "outputs": [
    {
     "data": {
      "text/html": [
       "<div>\n",
       "<style scoped>\n",
       "    .dataframe tbody tr th:only-of-type {\n",
       "        vertical-align: middle;\n",
       "    }\n",
       "\n",
       "    .dataframe tbody tr th {\n",
       "        vertical-align: top;\n",
       "    }\n",
       "\n",
       "    .dataframe thead th {\n",
       "        text-align: right;\n",
       "    }\n",
       "</style>\n",
       "<table border=\"1\" class=\"dataframe\">\n",
       "  <thead>\n",
       "    <tr style=\"text-align: right;\">\n",
       "      <th></th>\n",
       "      <th>Cluster Labels</th>\n",
       "      <th>Postcode</th>\n",
       "      <th>Borough</th>\n",
       "      <th>Neighbourhood</th>\n",
       "      <th>Latitude</th>\n",
       "      <th>Longitude</th>\n",
       "    </tr>\n",
       "  </thead>\n",
       "  <tbody>\n",
       "    <tr>\n",
       "      <th>0</th>\n",
       "      <td>0</td>\n",
       "      <td>M4E</td>\n",
       "      <td>East Toronto</td>\n",
       "      <td>The Beaches</td>\n",
       "      <td>43.676357</td>\n",
       "      <td>-79.293031</td>\n",
       "    </tr>\n",
       "    <tr>\n",
       "      <th>1</th>\n",
       "      <td>0</td>\n",
       "      <td>M4K</td>\n",
       "      <td>East Toronto</td>\n",
       "      <td>Riverdale, The Danforth West</td>\n",
       "      <td>43.679557</td>\n",
       "      <td>-79.352188</td>\n",
       "    </tr>\n",
       "    <tr>\n",
       "      <th>2</th>\n",
       "      <td>0</td>\n",
       "      <td>M4L</td>\n",
       "      <td>East Toronto</td>\n",
       "      <td>The Beaches West, India Bazaar</td>\n",
       "      <td>43.668999</td>\n",
       "      <td>-79.315572</td>\n",
       "    </tr>\n",
       "    <tr>\n",
       "      <th>3</th>\n",
       "      <td>0</td>\n",
       "      <td>M4M</td>\n",
       "      <td>East Toronto</td>\n",
       "      <td>Studio District</td>\n",
       "      <td>43.659526</td>\n",
       "      <td>-79.340923</td>\n",
       "    </tr>\n",
       "    <tr>\n",
       "      <th>4</th>\n",
       "      <td>0</td>\n",
       "      <td>M4N</td>\n",
       "      <td>Central Toronto</td>\n",
       "      <td>Lawrence Park</td>\n",
       "      <td>43.728020</td>\n",
       "      <td>-79.388790</td>\n",
       "    </tr>\n",
       "  </tbody>\n",
       "</table>\n",
       "</div>"
      ],
      "text/plain": [
       "   Cluster Labels Postcode          Borough                   Neighbourhood  \\\n",
       "0               0      M4E     East Toronto                     The Beaches   \n",
       "1               0      M4K     East Toronto    Riverdale, The Danforth West   \n",
       "2               0      M4L     East Toronto  The Beaches West, India Bazaar   \n",
       "3               0      M4M     East Toronto                 Studio District   \n",
       "4               0      M4N  Central Toronto                   Lawrence Park   \n",
       "\n",
       "    Latitude  Longitude  \n",
       "0  43.676357 -79.293031  \n",
       "1  43.679557 -79.352188  \n",
       "2  43.668999 -79.315572  \n",
       "3  43.659526 -79.340923  \n",
       "4  43.728020 -79.388790  "
      ]
     },
     "execution_count": 25,
     "metadata": {},
     "output_type": "execute_result"
    }
   ],
   "source": [
    "df_toronto.insert(0, 'Cluster Labels', kmeans.labels_)\n",
    "df_toronto.head()"
   ]
  },
  {
   "cell_type": "markdown",
   "metadata": {},
   "source": [
    "Visualize the clusters."
   ]
  },
  {
   "cell_type": "code",
   "execution_count": 26,
   "metadata": {},
   "outputs": [
    {
     "data": {
      "text/html": [
       "<div style=\"width:100%;\"><div style=\"position:relative;width:100%;height:0;padding-bottom:60%;\"><iframe src=\"data:text/html;charset=utf-8;base64,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\" style=\"position:absolute;width:100%;height:100%;left:0;top:0;border:none !important;\" allowfullscreen webkitallowfullscreen mozallowfullscreen></iframe></div></div>"
      ],
      "text/plain": [
       "<folium.folium.Map at 0x7f982d12c748>"
      ]
     },
     "execution_count": 26,
     "metadata": {},
     "output_type": "execute_result"
    }
   ],
   "source": [
    "map_clusters = folium.Map(location=[latitude, longitude], zoom_start=11)\n",
    "\n",
    "# set color scheme for the clusters\n",
    "x = np.arange(kclusters)\n",
    "ys = [i + x + (i*x)**2 for i in range(kclusters)]\n",
    "colors_array = cm.rainbow(np.linspace(0, 1, len(ys)))\n",
    "rainbow = [colors.rgb2hex(i) for i in colors_array]\n",
    "\n",
    "# add markers to the map\n",
    "markers_colors = []\n",
    "for lat, lon, poi, cluster in zip(df_toronto['Latitude'], df_toronto['Longitude'], df_toronto['Neighbourhood'], df_toronto['Cluster Labels']):\n",
    "    label = folium.Popup(str(poi) + ' Cluster ' + str(cluster), parse_html=True)\n",
    "    folium.CircleMarker(\n",
    "        [lat, lon],\n",
    "        radius=5,\n",
    "        popup=label,\n",
    "        color=rainbow[cluster-1],\n",
    "        fill=True,\n",
    "        fill_color=rainbow[cluster-1],\n",
    "        fill_opacity=0.7).add_to(map_clusters)\n",
    "       \n",
    "map_clusters"
   ]
  },
  {
   "cell_type": "code",
   "execution_count": null,
   "metadata": {},
   "outputs": [],
   "source": []
  }
 ],
 "metadata": {
  "kernelspec": {
   "display_name": "Python 3",
   "language": "python",
   "name": "python3"
  },
  "language_info": {
   "codemirror_mode": {
    "name": "ipython",
    "version": 3
   },
   "file_extension": ".py",
   "mimetype": "text/x-python",
   "name": "python",
   "nbconvert_exporter": "python",
   "pygments_lexer": "ipython3",
   "version": "3.6.6"
  }
 },
 "nbformat": 4,
 "nbformat_minor": 2
}
